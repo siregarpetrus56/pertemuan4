{
 "cells": [
  {
   "cell_type": "code",
   "execution_count": 1,
   "id": "f6d5c86a",
   "metadata": {},
   "outputs": [],
   "source": [
    "import numpy as np"
   ]
  },
  {
   "cell_type": "code",
   "execution_count": 3,
   "id": "efe02e8b",
   "metadata": {},
   "outputs": [
    {
     "name": "stdout",
     "output_type": "stream",
     "text": [
      "[[11 15 10  6]\n",
      " [10 14 11  5]\n",
      " [12 17 12  8]\n",
      " [15 18 14  9]]\n"
     ]
    }
   ],
   "source": [
    "twoDArray = np.array([[11,15,10,6],[10,14,11,5],[12,17,12,8],[15,18,14,9]])\n",
    "print(twoDArray)"
   ]
  },
  {
   "cell_type": "code",
   "execution_count": 10,
   "id": "e954a061",
   "metadata": {},
   "outputs": [
    {
     "name": "stdout",
     "output_type": "stream",
     "text": [
      "[[11 15 10  6]\n",
      " [10 14 11  5]\n",
      " [ 1  2  3  4]\n",
      " [12 17 12  8]\n",
      " [15 18 14  9]]\n"
     ]
    }
   ],
   "source": [
    "newTwoDArray = np.insert(twoDArray, 2, [[1,2,3,4]], axis=0)\n",
    "print(newTwoDArray)"
   ]
  },
  {
   "cell_type": "code",
   "execution_count": 16,
   "id": "49638ea1",
   "metadata": {},
   "outputs": [
    {
     "name": "stdout",
     "output_type": "stream",
     "text": [
      "5\n"
     ]
    }
   ],
   "source": [
    "print(len(newTwoDArray))"
   ]
  },
  {
   "cell_type": "code",
   "execution_count": 15,
   "id": "789177d8",
   "metadata": {},
   "outputs": [
    {
     "name": "stdout",
     "output_type": "stream",
     "text": [
      "[[11 15 10  6]\n",
      " [10 14 11  5]\n",
      " [12 17 12  8]\n",
      " [15 18 14  9]\n",
      " [ 1  2  3  4]]\n"
     ]
    }
   ],
   "source": [
    "newTwoDArray = np.append(twoDArray, [[1,2,3,4]], axis=0)\n",
    "print(newTwoDArray)"
   ]
  },
  {
   "cell_type": "code",
   "execution_count": 17,
   "id": "180bb276",
   "metadata": {},
   "outputs": [
    {
     "name": "stdout",
     "output_type": "stream",
     "text": [
      "5\n"
     ]
    }
   ],
   "source": [
    "print(len(newTwoDArray))"
   ]
  },
  {
   "cell_type": "code",
   "execution_count": 18,
   "id": "71789200",
   "metadata": {},
   "outputs": [
    {
     "name": "stdout",
     "output_type": "stream",
     "text": [
      "4\n"
     ]
    }
   ],
   "source": [
    "print(len(newTwoDArray[0]))"
   ]
  },
  {
   "cell_type": "code",
   "execution_count": 19,
   "id": "203bbdd4",
   "metadata": {},
   "outputs": [],
   "source": [
    "def accessElements(array, rowIndex, colIndex):\n",
    "    if rowIndex >= len(array) and colIndex >= len(array[0]):\n",
    "        print('Incorrect Index')\n",
    "    else:\n",
    "        print(array[rowIndex][colIndex])"
   ]
  },
  {
   "cell_type": "code",
   "execution_count": 23,
   "id": "c114db6f",
   "metadata": {},
   "outputs": [
    {
     "name": "stdout",
     "output_type": "stream",
     "text": [
      "11\n"
     ]
    }
   ],
   "source": [
    "#memanggil nilai elementnya\n",
    "accessElements(newTwoDArray, 1,2)"
   ]
  },
  {
   "cell_type": "code",
   "execution_count": 24,
   "id": "2568d515",
   "metadata": {},
   "outputs": [],
   "source": [
    "def traverseTDArray(array):\n",
    "    for i in range(len(array)):\n",
    "        for j in range(len(array[0])):\n",
    "            print(array[i][j])"
   ]
  },
  {
   "cell_type": "code",
   "execution_count": 26,
   "id": "73acedbc",
   "metadata": {},
   "outputs": [
    {
     "name": "stdout",
     "output_type": "stream",
     "text": [
      "11\n",
      "15\n",
      "10\n",
      "6\n",
      "10\n",
      "14\n",
      "11\n",
      "5\n",
      "12\n",
      "17\n",
      "12\n",
      "8\n",
      "15\n",
      "18\n",
      "14\n",
      "9\n"
     ]
    }
   ],
   "source": [
    "traverseTDArray(twoDArray)"
   ]
  },
  {
   "cell_type": "code",
   "execution_count": 27,
   "id": "09a32def",
   "metadata": {},
   "outputs": [],
   "source": [
    "def searchTDArray(array, value):\n",
    "    for i in range(len(array)):\n",
    "        for j in range(len(array[0])):\n",
    "            if array[i][j] == value:\n",
    "                return 'The value is located index '+str(i)+\" \"+str(j)\n",
    "    return 'The element no found'\n",
    "        "
   ]
  },
  {
   "cell_type": "code",
   "execution_count": 29,
   "id": "dfb4a988",
   "metadata": {},
   "outputs": [
    {
     "name": "stdout",
     "output_type": "stream",
     "text": [
      "[[11 15 10  6]\n",
      " [10 14 11  5]\n",
      " [12 17 12  8]\n",
      " [15 18 14  9]]\n"
     ]
    }
   ],
   "source": [
    "print(twoDArray)"
   ]
  },
  {
   "cell_type": "code",
   "execution_count": 32,
   "id": "2f99b0c1",
   "metadata": {},
   "outputs": [
    {
     "name": "stdout",
     "output_type": "stream",
     "text": [
      "The value is located index 0 0\n"
     ]
    }
   ],
   "source": [
    "print(searchTDArray(twoDArray, 11))"
   ]
  },
  {
   "cell_type": "code",
   "execution_count": 38,
   "id": "d1e6ae80",
   "metadata": {},
   "outputs": [
    {
     "name": "stdout",
     "output_type": "stream",
     "text": [
      "[[11 15 10  6]\n",
      " [10 14 11  5]\n",
      " [15 18 14  9]]\n"
     ]
    }
   ],
   "source": [
    "newTDArray = np.delete(twoDArray, 2, axis=0)\n",
    "print(newTDArray)"
   ]
  }
 ],
 "metadata": {
  "kernelspec": {
   "display_name": "Python 3 (ipykernel)",
   "language": "python",
   "name": "python3"
  },
  "language_info": {
   "codemirror_mode": {
    "name": "ipython",
    "version": 3
   },
   "file_extension": ".py",
   "mimetype": "text/x-python",
   "name": "python",
   "nbconvert_exporter": "python",
   "pygments_lexer": "ipython3",
   "version": "3.9.12"
  }
 },
 "nbformat": 4,
 "nbformat_minor": 5
}
