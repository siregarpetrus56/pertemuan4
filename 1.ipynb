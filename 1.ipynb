{
 "cells": [
  {
   "cell_type": "code",
   "execution_count": 1,
   "id": "590f34dd",
   "metadata": {},
   "outputs": [],
   "source": [
    "import numpy as np"
   ]
  },
  {
   "cell_type": "code",
   "execution_count": 3,
   "id": "526826ed",
   "metadata": {},
   "outputs": [
    {
     "name": "stdout",
     "output_type": "stream",
     "text": [
      "[[11 15 10  6]\n",
      " [10 14 11  5]\n",
      " [12 17 12  8]\n",
      " [15 18 14  9]]\n"
     ]
    }
   ],
   "source": [
    "twoDArray = np.array([[11,15,10,6],[10,14,11,5],[12,17,12,8],[15,18,14,9]])\n",
    "print(twoDArray)"
   ]
  },
  {
   "cell_type": "code",
   "execution_count": 10,
   "id": "34699d34",
   "metadata": {},
   "outputs": [
    {
     "name": "stdout",
     "output_type": "stream",
     "text": [
      "[[11 15 10  6]\n",
      " [10 14 11  5]\n",
      " [ 1  2  3  4]\n",
      " [12 17 12  8]\n",
      " [15 18 14  9]]\n"
     ]
    }
   ],
   "source": [
    "newTwoDArray = np.insert(twoDArray, 2, [[1,2,3,4]], axis=0)\n",
    "print(newTwoDArray)"
   ]
  },
  {
   "cell_type": "code",
   "execution_count": 16,
   "id": "2b64067a",
   "metadata": {},
   "outputs": [
    {
     "name": "stdout",
     "output_type": "stream",
     "text": [
      "5\n"
     ]
    }
   ],
   "source": [
    "print(len(newTwoDArray))"
   ]
  },
  {
   "cell_type": "code",
   "execution_count": 15,
   "id": "a6a630b4",
   "metadata": {},
   "outputs": [
    {
     "name": "stdout",
     "output_type": "stream",
     "text": [
      "[[11 15 10  6]\n",
      " [10 14 11  5]\n",
      " [12 17 12  8]\n",
      " [15 18 14  9]\n",
      " [ 1  2  3  4]]\n"
     ]
    }
   ],
   "source": [
    "newTwoDArray = np.append(twoDArray, [[1,2,3,4]], axis=0)\n",
    "print(newTwoDArray)"
   ]
  },
  {
   "cell_type": "code",
   "execution_count": 17,
   "id": "afeea0b5",
   "metadata": {},
   "outputs": [
    {
     "name": "stdout",
     "output_type": "stream",
     "text": [
      "5\n"
     ]
    }
   ],
   "source": [
    "print(len(newTwoDArray))"
   ]
  },
  {
   "cell_type": "code",
   "execution_count": 18,
   "id": "b61a0567",
   "metadata": {},
   "outputs": [
    {
     "name": "stdout",
     "output_type": "stream",
     "text": [
      "4\n"
     ]
    }
   ],
   "source": [
    "print(len(newTwoDArray[0]))"
   ]
  },
  {
   "cell_type": "code",
   "execution_count": 19,
   "id": "7c974724",
   "metadata": {},
   "outputs": [],
   "source": [
    "def accessElements(array, rowIndex, colIndex):\n",
    "    if rowIndex >= len(array) and colIndex >= len(array[0]):\n",
    "        print('Incorrect Index')\n",
    "    else:\n",
    "        print(array[rowIndex][colIndex])"
   ]
  },
  {
   "cell_type": "code",
   "execution_count": 23,
   "id": "c3f26da2",
   "metadata": {},
   "outputs": [
    {
     "name": "stdout",
     "output_type": "stream",
     "text": [
      "11\n"
     ]
    }
   ],
   "source": [
    "#memanggil nilai elementnya\n",
    "accessElements(newTwoDArray, 1,2)"
   ]
  },
  {
   "cell_type": "code",
   "execution_count": 24,
   "id": "12b26940",
   "metadata": {},
   "outputs": [],
   "source": [
    "def traverseTDArray(array):\n",
    "    for i in range(len(array)):\n",
    "        for j in range(len(array[0])):\n",
    "            print(array[i][j])"
   ]
  },
  {
   "cell_type": "code",
   "execution_count": 26,
   "id": "5fa13dc9",
   "metadata": {},
   "outputs": [
    {
     "name": "stdout",
     "output_type": "stream",
     "text": [
      "11\n",
      "15\n",
      "10\n",
      "6\n",
      "10\n",
      "14\n",
      "11\n",
      "5\n",
      "12\n",
      "17\n",
      "12\n",
      "8\n",
      "15\n",
      "18\n",
      "14\n",
      "9\n"
     ]
    }
   ],
   "source": [
    "traverseTDArray(twoDArray)"
   ]
  },
  {
   "cell_type": "code",
   "execution_count": 27,
   "id": "0570011d",
   "metadata": {},
   "outputs": [],
   "source": [
    "def searchTDArray(array, value):\n",
    "    for i in range(len(array)):\n",
    "        for j in range(len(array[0])):\n",
    "            if array[i][j] == value:\n",
    "                return 'The value is located index '+str(i)+\" \"+str(j)\n",
    "    return 'The element no found'\n",
    "        "
   ]
  },
  {
   "cell_type": "code",
   "execution_count": 29,
   "id": "e65efe0f",
   "metadata": {},
   "outputs": [
    {
     "name": "stdout",
     "output_type": "stream",
     "text": [
      "[[11 15 10  6]\n",
      " [10 14 11  5]\n",
      " [12 17 12  8]\n",
      " [15 18 14  9]]\n"
     ]
    }
   ],
   "source": [
    "print(twoDArray)"
   ]
  },
  {
   "cell_type": "code",
   "execution_count": 32,
   "id": "ec6495b9",
   "metadata": {},
   "outputs": [
    {
     "name": "stdout",
     "output_type": "stream",
     "text": [
      "The value is located index 0 0\n"
     ]
    }
   ],
   "source": [
    "print(searchTDArray(twoDArray, 11))"
   ]
  },
  {
   "cell_type": "code",
   "execution_count": 38,
   "id": "78a85d06",
   "metadata": {},
   "outputs": [
    {
     "name": "stdout",
     "output_type": "stream",
     "text": [
      "[[11 15 10  6]\n",
      " [10 14 11  5]\n",
      " [15 18 14  9]]\n"
     ]
    }
   ],
   "source": [
    "newTDArray = np.delete(twoDArray, 2, axis=0)\n",
    "print(newTDArray)"
   ]
  },
  {
   "cell_type": "code",
   "execution_count": 39,
   "id": "fcfbecaf",
   "metadata": {},
   "outputs": [],
   "source": [
    "shoppingList = ['Milk', 'Cheese', 'Butter']"
   ]
  },
  {
   "cell_type": "code",
   "execution_count": 40,
   "id": "d8594c22",
   "metadata": {},
   "outputs": [
    {
     "name": "stdout",
     "output_type": "stream",
     "text": [
      "Milk+\n",
      "Cheese+\n",
      "Butter+\n"
     ]
    }
   ],
   "source": [
    "for i in range(len(shoppingList)):\n",
    "        shoppingList[i] = shoppingList[i]+\"+\"\n",
    "        print(shoppingList[i])\n",
    "empty = []\n",
    "for i in empty:\n",
    "    print(\"I am empty\")"
   ]
  },
  {
   "cell_type": "code",
   "execution_count": 41,
   "id": "589d7512",
   "metadata": {},
   "outputs": [
    {
     "name": "stdout",
     "output_type": "stream",
     "text": [
      "[1, 2, 3, 4, 5, 6, 7]\n"
     ]
    }
   ],
   "source": [
    "myList = [1,2,3,4,5,6,7]\n",
    "print(myList)"
   ]
  },
  {
   "cell_type": "code",
   "execution_count": 42,
   "id": "501ea906",
   "metadata": {},
   "outputs": [
    {
     "name": "stdout",
     "output_type": "stream",
     "text": [
      "[1, 2, 3, 4, 15, 5, 6, 7, 55, 11, 12, 13, 14]\n"
     ]
    }
   ],
   "source": [
    "myList.insert(4,15)\n",
    "\n",
    "myList.append(55)\n",
    "\n",
    "newList = [11,12,13,14]\n",
    "myList.extend(newList)\n",
    "print(myList)"
   ]
  },
  {
   "cell_type": "code",
   "execution_count": 43,
   "id": "9d68f5d9",
   "metadata": {},
   "outputs": [
    {
     "name": "stdout",
     "output_type": "stream",
     "text": [
      "The value does not exist in the list\n"
     ]
    }
   ],
   "source": [
    "myList = [10,20,30,40,50,60,70,80,90]\n",
    "\n",
    "def searchinList(list, value):\n",
    "    for i in list:\n",
    "        if i == value:\n",
    "            return list.index(value)\n",
    "    return 'The value does not exist in the list'\n",
    "\n",
    "print(searchinList(myList, 100))"
   ]
  },
  {
   "cell_type": "code",
   "execution_count": 45,
   "id": "3fa1cb38",
   "metadata": {},
   "outputs": [
    {
     "name": "stdout",
     "output_type": "stream",
     "text": [
      "Enter a number: 7\n",
      "Enter a number: 7\n",
      "Enter a number: 7\n",
      "Enter a number: 7\n",
      "Enter a number: 7\n",
      "Enter a number: 7\n",
      "Enter a number: 7\n",
      "Enter a number: 7\n",
      "Enter a number: 7\n",
      "Enter a number: 7\n",
      "Enter a number: done\n",
      "Average: 7.0\n"
     ]
    }
   ],
   "source": [
    "total = 0\n",
    "count = 0\n",
    "while (True):\n",
    "    inp = input('Enter a number: ')\n",
    "    if inp == 'done': break\n",
    "    value = float(inp)\n",
    "    total = total + value\n",
    "    count = count + 1\n",
    "    average = total / count\n",
    "print('Average:',average)"
   ]
  },
  {
   "cell_type": "code",
   "execution_count": null,
   "id": "23916754",
   "metadata": {},
   "outputs": [],
   "source": []
  },
  {
   "cell_type": "code",
   "execution_count": null,
   "id": "694fa4cd",
   "metadata": {},
   "outputs": [],
   "source": []
  }
 ],
 "metadata": {
  "kernelspec": {
   "display_name": "Python 3 (ipykernel)",
   "language": "python",
   "name": "python3"
  },
  "language_info": {
   "codemirror_mode": {
    "name": "ipython",
    "version": 3
   },
   "file_extension": ".py",
   "mimetype": "text/x-python",
   "name": "python",
   "nbconvert_exporter": "python",
   "pygments_lexer": "ipython3",
   "version": "3.9.12"
  }
 },
 "nbformat": 4,
 "nbformat_minor": 5
}
